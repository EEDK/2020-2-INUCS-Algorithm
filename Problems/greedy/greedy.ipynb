{
 "cells": [
  {
   "attachments": {},
   "cell_type": "markdown",
   "metadata": {},
   "source": [
    "대표적인 Greedy 문제 예시 \n",
    "\n",
    "받은 돈을 입력받았을시 가장 최소 개수로 동전을 주는 경우를 계산\n",
    "\n",
    "-> 가장 큰 돈 단위부터 전달 하면 가장 적합한 개수를 줄 수 있음"
   ]
  },
  {
   "cell_type": "code",
   "execution_count": 1,
   "metadata": {},
   "outputs": [
    {
     "name": "stdout",
     "output_type": "stream",
     "text": [
      "6\n"
     ]
    }
   ],
   "source": [
    "def ProblemGreedyExample(money):\n",
    "    answer = 0\n",
    "\n",
    "    changeMoney = [500, 100, 50, 10]\n",
    "\n",
    "    for coin in changeMoney:\n",
    "        answer += money // coin\n",
    "        money = money % coin\n",
    "\n",
    "    return answer\n"
   ]
  },
  {
   "cell_type": "code",
   "execution_count": 2,
   "metadata": {},
   "outputs": [
    {
     "data": {
      "text/plain": [
       "6"
      ]
     },
     "execution_count": 2,
     "metadata": {},
     "output_type": "execute_result"
    }
   ],
   "source": [
    "ProblemGreedyExample(1260)"
   ]
  }
 ],
 "metadata": {
  "kernelspec": {
   "display_name": "Python 3",
   "language": "python",
   "name": "python3"
  },
  "language_info": {
   "codemirror_mode": {
    "name": "ipython",
    "version": 3
   },
   "file_extension": ".py",
   "mimetype": "text/x-python",
   "name": "python",
   "nbconvert_exporter": "python",
   "pygments_lexer": "ipython3",
   "version": "3.7.9"
  },
  "orig_nbformat": 4,
  "vscode": {
   "interpreter": {
    "hash": "8a55333c6484fc9b8d981e27bde5fe9611970d30801ba98f2cafc113246f7725"
   }
  }
 },
 "nbformat": 4,
 "nbformat_minor": 2
}
