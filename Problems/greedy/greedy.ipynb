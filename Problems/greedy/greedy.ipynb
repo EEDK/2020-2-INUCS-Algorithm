{
 "cells": [
  {
   "attachments": {},
   "cell_type": "markdown",
   "metadata": {},
   "source": [
    "대표적인 Greedy 문제 예시"
   ]
  },
  {
   "cell_type": "code",
   "execution_count": 6,
   "metadata": {},
   "outputs": [],
   "source": [
    "# 거스름돈 최소로\n",
    "# https://velog.io/@kyunghwan1207/%EA%B7%B8%EB%A6%AC%EB%94%94-%EC%95%8C%EA%B3%A0%EB%A6%AC%EC%A6%98Greedy-Algorithm-%ED%83%90%EC%9A%95%EB%B2%95\n",
    "\n",
    "def ProblemGreedyExample(money):\n",
    "    answer = 0\n",
    "\n",
    "    changeMoney = [500, 100, 50, 10]\n",
    "\n",
    "    for coin in changeMoney:\n",
    "        answer += money // coin\n",
    "        money = money % coin\n",
    "\n",
    "    return answer\n",
    "\n",
    "\n",
    "print(ProblemGreedyExample(1260))\n"
   ]
  },
  {
   "cell_type": "code",
   "execution_count": 9,
   "metadata": {},
   "outputs": [
    {
     "name": "stdout",
     "output_type": "stream",
     "text": [
      "['D', 'C', 'B']\n",
      "['D', 'C', 'F', 'E', 'A']\n",
      "['D', 'C', 'F', 'B']\n",
      "['D', 'C', 'B']\n",
      "['D', 'A']\n",
      "['G', 'A']\n",
      "['D']\n",
      "dfs -  ['A', 'B', 'E', 'F', 'C', 'D', 'G']\n",
      "bfs -  ['A', 'B', 'C', 'D', 'E', 'F', 'G']\n"
     ]
    },
    {
     "data": {
      "text/plain": [
       "['A', 'B', 'C', 'D', 'E', 'F', 'G']"
      ]
     },
     "execution_count": 9,
     "metadata": {},
     "output_type": "execute_result"
    }
   ],
   "source": [
    "ProblemGreedyExample(1260)"
   ]
  }
 ],
 "metadata": {
  "kernelspec": {
   "display_name": "Python 3",
   "language": "python",
   "name": "python3"
  },
  "language_info": {
   "codemirror_mode": {
    "name": "ipython",
    "version": 3
   },
   "file_extension": ".py",
   "mimetype": "text/x-python",
   "name": "python",
   "nbconvert_exporter": "python",
   "pygments_lexer": "ipython3",
   "version": "3.7.9"
  },
  "orig_nbformat": 4,
  "vscode": {
   "interpreter": {
    "hash": "8a55333c6484fc9b8d981e27bde5fe9611970d30801ba98f2cafc113246f7725"
   }
  }
 },
 "nbformat": 4,
 "nbformat_minor": 2
}
