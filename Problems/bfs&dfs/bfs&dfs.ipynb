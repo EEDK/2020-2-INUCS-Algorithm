{
 "cells": [
  {
   "attachments": {},
   "cell_type": "markdown",
   "metadata": {},
   "source": [
    "![nn](example.png)\n"
   ]
  },
  {
   "attachments": {},
   "cell_type": "markdown",
   "metadata": {},
   "source": [
    "대표적인 BFS & DFS 예시 그래프"
   ]
  },
  {
   "cell_type": "code",
   "execution_count": 6,
   "metadata": {},
   "outputs": [],
   "source": [
    "myGraph = {\n",
    "    'A': ['B', 'C', 'D'],\n",
    "    'B': ['A', 'E', 'F'],\n",
    "    'C': ['A'],\n",
    "    'D': ['A', 'G'],\n",
    "    'E': ['B'],\n",
    "    'F': ['B'],\n",
    "    'G': ['D'],\n",
    "}"
   ]
  },
  {
   "cell_type": "code",
   "execution_count": 7,
   "metadata": {},
   "outputs": [],
   "source": [
    "\n",
    "def DFS(graph, start_node):\n",
    "    visited = list() \n",
    "    stack = list() \n",
    "\n",
    "    stack.append(start_node) \n",
    "\n",
    "    while stack: \n",
    "        node = stack.pop() \n",
    "\n",
    "        if node not in visited: \n",
    "            visited.append(node) \n",
    "            # stack.extend(graph[node]) \n",
    "            stack.extend(reversed(graph[node]))\n",
    "\n",
    "    print(\"dfs - \", visited)\n",
    "    return visited"
   ]
  },
  {
   "cell_type": "code",
   "execution_count": 8,
   "metadata": {},
   "outputs": [],
   "source": [
    "def BFS(graph, start_node):\n",
    "    visited = list() # 방문한 노드를 담을 배열\n",
    "    queue = list() # 방문 예정인 노드를 담을 배열\n",
    "\n",
    "    queue.append(start_node) # 처음에는 시작 노드 담아주고 시작하기.\n",
    "\n",
    "    while queue: # 더 이상 방문할 노드가 없을 때까지.\n",
    "        node = queue.pop(0) # 방문할 노드를 앞에서 부터 하나싹 꺼내기.\n",
    "\n",
    "        if node not in visited: # 방문한 노드가 아니라면\n",
    "            visited.append(node) # visited 배열에 추가\n",
    "            queue.extend(graph[node]) # 해당 노드의 자식 노드로 추가\n",
    "    \n",
    "    print(\"bfs - \", visited)\n",
    "    return visited\n",
    "  "
   ]
  },
  {
   "cell_type": "code",
   "execution_count": 9,
   "metadata": {},
   "outputs": [
    {
     "name": "stdout",
     "output_type": "stream",
     "text": [
      "['D', 'C', 'B']\n",
      "['D', 'C', 'F', 'E', 'A']\n",
      "['D', 'C', 'F', 'B']\n",
      "['D', 'C', 'B']\n",
      "['D', 'A']\n",
      "['G', 'A']\n",
      "['D']\n",
      "dfs -  ['A', 'B', 'E', 'F', 'C', 'D', 'G']\n",
      "bfs -  ['A', 'B', 'C', 'D', 'E', 'F', 'G']\n"
     ]
    },
    {
     "data": {
      "text/plain": [
       "['A', 'B', 'C', 'D', 'E', 'F', 'G']"
      ]
     },
     "execution_count": 9,
     "metadata": {},
     "output_type": "execute_result"
    }
   ],
   "source": [
    "DFS(myGraph, 'A')\n",
    "BFS(myGraph, 'A')"
   ]
  }
 ],
 "metadata": {
  "kernelspec": {
   "display_name": "Python 3",
   "language": "python",
   "name": "python3"
  },
  "language_info": {
   "codemirror_mode": {
    "name": "ipython",
    "version": 3
   },
   "file_extension": ".py",
   "mimetype": "text/x-python",
   "name": "python",
   "nbconvert_exporter": "python",
   "pygments_lexer": "ipython3",
   "version": "3.11.2"
  },
  "orig_nbformat": 4,
  "vscode": {
   "interpreter": {
    "hash": "9650cb4e16cdd4a8e8e2d128bf38d875813998db22a3c986335f89e0cb4d7bb2"
   }
  }
 },
 "nbformat": 4,
 "nbformat_minor": 2
}
