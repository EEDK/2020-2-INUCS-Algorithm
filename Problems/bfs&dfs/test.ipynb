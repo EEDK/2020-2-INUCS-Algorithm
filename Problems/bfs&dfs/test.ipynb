{
 "cells": [
  {
   "attachments": {},
   "cell_type": "markdown",
   "metadata": {},
   "source": [
    "![nn](example.png)\n"
   ]
  },
  {
   "attachments": {},
   "cell_type": "markdown",
   "metadata": {},
   "source": [
    "대표적인 BFS & DFS 예시 그래프"
   ]
  },
  {
   "cell_type": "code",
   "execution_count": 7,
   "metadata": {},
   "outputs": [],
   "source": [
    "myGraph = {\n",
    "    'A': ['B', 'C', 'D'],\n",
    "    'B': ['A', 'E', 'F'],\n",
    "    'C': ['A'],\n",
    "    'D': ['A', 'G'],\n",
    "    'E': ['B'],\n",
    "    'F': ['B'],\n",
    "    'G': ['D'],\n",
    "}\n",
    "\n",
    "def DFS(graph, start_node):\n",
    "    visited = list() \n",
    "    stack = list() \n",
    "\n",
    "    stack.append(start_node) \n",
    "\n",
    "    while stack: \n",
    "        node = stack.pop() #\n",
    "\n",
    "        if node not in visited: \n",
    "            visited.append(node) \n",
    "            # stack.extend(graph[node]) \n",
    "            stack.extend(reversed(graph[node]))\n",
    "\n",
    "    print(\"dfs - \", visited)\n",
    "    return visited"
   ]
  },
  {
   "cell_type": "code",
   "execution_count": 8,
   "metadata": {},
   "outputs": [
    {
     "name": "stdout",
     "output_type": "stream",
     "text": [
      "dfs -  ['A', 'D', 'G', 'C', 'B', 'F', 'E']\n"
     ]
    },
    {
     "data": {
      "text/plain": [
       "['A', 'D', 'G', 'C', 'B', 'F', 'E']"
      ]
     },
     "execution_count": 8,
     "metadata": {},
     "output_type": "execute_result"
    }
   ],
   "source": [
    "DFS(myGraph, 'A')"
   ]
  }
 ],
 "metadata": {
  "kernelspec": {
   "display_name": "Python 3",
   "language": "python",
   "name": "python3"
  },
  "language_info": {
   "codemirror_mode": {
    "name": "ipython",
    "version": 3
   },
   "file_extension": ".py",
   "mimetype": "text/x-python",
   "name": "python",
   "nbconvert_exporter": "python",
   "pygments_lexer": "ipython3",
   "version": "3.7.9"
  },
  "orig_nbformat": 4,
  "vscode": {
   "interpreter": {
    "hash": "8a55333c6484fc9b8d981e27bde5fe9611970d30801ba98f2cafc113246f7725"
   }
  }
 },
 "nbformat": 4,
 "nbformat_minor": 2
}
